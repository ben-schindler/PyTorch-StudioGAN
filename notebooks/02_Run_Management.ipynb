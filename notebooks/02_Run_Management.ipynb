{
 "cells": [
  {
   "cell_type": "code",
   "execution_count": 4,
   "id": "12ed634d-6a81-4b07-a81b-5ccd818b2ad9",
   "metadata": {},
   "outputs": [],
   "source": [
    "import wandb\n",
    "import os\n",
    "import os.path as path\n",
    "api = wandb.Api()\n",
    "\n",
    "PATH = \"../logs/CIFAR10-Ensemble\"\n",
    "\n",
    "folders = os.listdir(PATH)\n",
    "folders.remove(\"wandb\")\n",
    "folders.remove(\"moments\")"
   ]
  },
  {
   "cell_type": "code",
   "execution_count": 5,
   "id": "10945754-efc7-40d1-b9ab-8bfd004e1b83",
   "metadata": {},
   "outputs": [],
   "source": [
    "# group runs:\n",
    "for r in api.runs(\"PyTorch-StudioGAN-src\"):\n",
    "    r.group = r.name.split(\"-train\")[0]\n",
    "    r.update()"
   ]
  },
  {
   "cell_type": "code",
   "execution_count": 8,
   "id": "2aee34b4-5154-4f4c-a11e-029d09c156f0",
   "metadata": {},
   "outputs": [],
   "source": [
    "# move all non kept experiments to tmp folder\n",
    "\n",
    "trash_path = path.join(PATH, \"..\", \"CIFAR10-Ensemble-trash\")\n",
    "\n",
    "if \"CIFAR10-Ensemble-trash\" not in os.listdir(path.join(PATH, \"..\")):\n",
    "    os.mkdir(trash_path)\n",
    "for folder in folders:\n",
    "    if folder not in os.listdir(trash_path):\n",
    "        os.mkdir(path.join(trash_path, folder))\n",
    "    \n",
    "kept_runs = [r.name for r in api.runs(\"PyTorch-StudioGAN-src\")]\n",
    "\n",
    "for folder in folders:\n",
    "    for experiment in os.listdir(path.join(PATH, folder)):\n",
    "        if path.splitext(experiment)[0] not in kept_runs:\n",
    "            os.rename(path.join(PATH, folder, experiment), path.join(trash_path, folder, experiment))\n"
   ]
  },
  {
   "cell_type": "code",
   "execution_count": null,
   "id": "471b7028-5ae7-47dc-bbc1-c9099d8a0184",
   "metadata": {},
   "outputs": [],
   "source": [
    "ls ../lo"
   ]
  }
 ],
 "metadata": {
  "kernelspec": {
   "display_name": "StudioGAN",
   "language": "python",
   "name": "studiogan"
  },
  "language_info": {
   "codemirror_mode": {
    "name": "ipython",
    "version": 3
   },
   "file_extension": ".py",
   "mimetype": "text/x-python",
   "name": "python",
   "nbconvert_exporter": "python",
   "pygments_lexer": "ipython3",
   "version": "3.10.13"
  }
 },
 "nbformat": 4,
 "nbformat_minor": 5
}
